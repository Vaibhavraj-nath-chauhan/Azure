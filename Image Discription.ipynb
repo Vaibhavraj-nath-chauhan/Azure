{
 "cells": [
  {
   "cell_type": "markdown",
   "metadata": {},
   "source": [
    "## Azure Image discription\n"
   ]
  },
  {
   "cell_type": "markdown",
   "metadata": {},
   "source": [
    "### Import Libraries"
   ]
  },
  {
   "cell_type": "code",
   "execution_count": null,
   "metadata": {},
   "outputs": [],
   "source": [
    "from azure.cognitiveservices.vision.computervision import ComputerVisionClient\n",
    "from msrest.authentication import CognitiveServicesCredentials\n",
    "import os"
   ]
  },
  {
   "cell_type": "markdown",
   "metadata": {},
   "source": [
    "### Enter API key"
   ]
  },
  {
   "cell_type": "code",
   "execution_count": null,
   "metadata": {},
   "outputs": [],
   "source": [
    "key = 'Enter Your Key'\n",
    "endpoint = 'Enter End Point'\n",
    "print('Service At -> {}  \\nkey -> {}'.format(cog_endpoint, cog_key))"
   ]
  },
  {
   "cell_type": "markdown",
   "metadata": {},
   "source": [
    "### Connecting with azure api "
   ]
  },
  {
   "cell_type": "code",
   "execution_count": null,
   "metadata": {},
   "outputs": [],
   "source": [
    "computervision_client = ComputerVisionClient(endpoint, CognitiveServicesCredentials(key))\n",
    "print(computervision_client)"
   ]
  },
  {
   "cell_type": "markdown",
   "metadata": {},
   "source": [
    "### Get a description"
   ]
  },
  {
   "cell_type": "code",
   "execution_count": null,
   "metadata": {},
   "outputs": [],
   "source": [
    "image_stream = open(\"Pass Your image\", \"rb\")\n",
    "description = computervision_client.describe_image_in_stream(image_stream)"
   ]
  },
  {
   "cell_type": "markdown",
   "metadata": {},
   "source": [
    "### Output"
   ]
  },
  {
   "cell_type": "code",
   "execution_count": null,
   "metadata": {},
   "outputs": [],
   "source": [
    "for cap in description.captions:\n",
    "    print('\"{}\" \\nConfidence-> {}'.format(cap.text,cap.confidence))"
   ]
  },
  {
   "cell_type": "markdown",
   "metadata": {},
   "source": [
    "###  If passing url then use"
   ]
  },
  {
   "cell_type": "code",
   "execution_count": null,
   "metadata": {},
   "outputs": [],
   "source": [
    "url = \"Enter URL\"\n",
    "description = computervision_client.describe_image(image_stream)\n",
    "for cap in description.captions:\n",
    "    print('\"{}\" \\nConfidence-> {}'.format(cap.text,cap.confidence))"
   ]
  },
  {
   "cell_type": "markdown",
   "metadata": {},
   "source": [
    "#### Related Feature ->  "
   ]
  },
  {
   "cell_type": "markdown",
   "metadata": {},
   "source": [
    " 1.  'analyze_image', 'analyze_image_by_domain', 'analyze_image_by_domain_in_stream', 'analyze_image_in_stream'.\n",
    " 2.  'describe_image', 'describe_image_in_stream'.\n",
    " 3.  'detect_objects', 'detect_objects_in_stream'.\n",
    " 4.  'generate_thumbnail', 'generate_thumbnail_in_stream'.\n",
    " 5.  'get_area_of_interest', 'get_area_of_interest_in_stream'.\n",
    " 6.  'get_read_result'.\n",
    " 7.  'list_models'.\n",
    " 8.  'read', 'read_in_stream'.\n",
    " 9.  'recognize_printed_text', 'recognize_printed_text_in_stream'.\n",
    " 10. 'tag_image', 'tag_image_in_stream."
   ]
  },
  {
   "cell_type": "code",
   "execution_count": null,
   "metadata": {},
   "outputs": [],
   "source": []
  }
 ],
 "metadata": {
  "kernelspec": {
   "display_name": "Python 3 (ipykernel)",
   "language": "python",
   "name": "python3"
  },
  "language_info": {
   "codemirror_mode": {
    "name": "ipython",
    "version": 3
   },
   "file_extension": ".py",
   "mimetype": "text/x-python",
   "name": "python",
   "nbconvert_exporter": "python",
   "pygments_lexer": "ipython3",
   "version": "3.9.7"
  }
 },
 "nbformat": 4,
 "nbformat_minor": 4
}
