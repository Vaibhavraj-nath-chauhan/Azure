{
 "cells": [
  {
   "cell_type": "markdown",
   "metadata": {},
   "source": [
    "## Azure Image discription\n"
   ]
  },
  {
   "cell_type": "markdown",
   "metadata": {},
   "source": [
    "### Import Libraries"
   ]
  },
  {
   "cell_type": "code",
   "execution_count": null,
   "metadata": {},
   "outputs": [],
   "source": [
    "from azure.cognitiveservices.vision.computervision import ComputerVisionClient\n",
    "from msrest.authentication import CognitiveServicesCredentials\n",
    "import os"
   ]
  },
  {
   "cell_type": "markdown",
   "metadata": {},
   "source": [
    "### Enter API key"
   ]
  },
  {
   "cell_type": "code",
   "execution_count": null,
   "metadata": {},
   "outputs": [],
   "source": [
    "key = 'Enter Your Key'\n",
    "endpoint = 'Enter End Point'\n",
    "print('Service At -> {}  \\nkey -> {}'.format(cog_endpoint, cog_key))"
   ]
  },
  {
   "cell_type": "markdown",
   "metadata": {},
   "source": [
    "### Connecting with azure api "
   ]
  },
  {
   "cell_type": "code",
   "execution_count": null,
   "metadata": {},
   "outputs": [],
   "source": [
    "computervision_client = ComputerVisionClient(endpoint, CognitiveServicesCredentials(key))\n",
    "print(computervision_client)"
   ]
  },
  {
   "cell_type": "markdown",
   "metadata": {},
   "source": [
    "### Get a description"
   ]
  },
  {
   "cell_type": "code",
   "execution_count": null,
   "metadata": {},
   "outputs": [],
   "source": [
    "image_stream = open(\"Pass Your image\", \"rb\")\n",
    "description = computervision_client.describe_image_in_stream(image_stream)"
   ]
  },
  {
   "cell_type": "markdown",
   "metadata": {},
   "source": [
    "### Output"
   ]
  },
  {
   "cell_type": "code",
   "execution_count": null,
   "metadata": {},
   "outputs": [],
   "source": [
    "for cap in description.captions:\n",
    "    print('\"{}\" \\nConfidence-> {}'.format(cap.text,cap.confidence))"
   ]
  },
  {
   "cell_type": "markdown",
   "metadata": {},
   "source": [
    "###  If passing url then use"
   ]
  },
  {
   "cell_type": "code",
   "execution_count": null,
   "metadata": {},
   "outputs": [],
   "source": [
    "url = \"Enter URL\"\n",
    "description = computervision_client.describe_image(image_stream)\n",
    "for cap in description.captions:\n",
    "    print('\"{}\" \\nConfidence-> {}'.format(cap.text,cap.confidence))"
   ]
  },
  {
   "cell_type": "markdown",
   "metadata": {},
   "source": [
    "#### Related Feature ->  "
   ]
  },
  {
   "cell_type": "markdown",
   "metadata": {},
   "source": [
    " 1. 'analyze_image',\n",
    " 2. 'analyze_image_by_domain',\n",
    " 3. 'analyze_image_by_domain_in_stream',\n",
    " 4. 'analyze_image_in_stream',\n",
    " 5. 'api_version',\n",
    " 6. 'describe_image',\n",
    " 7. 'describe_image_in_stream',\n",
    " 8. 'detect_objects',\n",
    " 9. 'detect_objects_in_stream',\n",
    " 10. 'generate_thumbnail',\n",
    " 11. 'generate_thumbnail_in_stream',\n",
    " 12. 'get_area_of_interest',\n",
    " 13. 'get_area_of_interest_in_stream',\n",
    " 14. 'get_read_result',\n",
    " 15. 'list_models',\n",
    " 16. 'read',\n",
    " 17. 'read_in_stream',\n",
    " 18. 'recognize_printed_text',\n",
    " 19. 'recognize_printed_text_in_stream',\n",
    " 20. 'tag_image',\n",
    " 21. 'tag_image_in_stream"
   ]
  }
 ],
 "metadata": {
  "kernelspec": {
   "display_name": "Python 3 (ipykernel)",
   "language": "python",
   "name": "python3"
  },
  "language_info": {
   "codemirror_mode": {
    "name": "ipython",
    "version": 3
   },
   "file_extension": ".py",
   "mimetype": "text/x-python",
   "name": "python",
   "nbconvert_exporter": "python",
   "pygments_lexer": "ipython3",
   "version": "3.9.7"
  }
 },
 "nbformat": 4,
 "nbformat_minor": 4
}
